{
 "cells": [
  {
   "cell_type": "code",
   "execution_count": 3,
   "metadata": {},
   "outputs": [
    {
     "data": {
      "text/plain": [
       "'0.23.0'"
      ]
     },
     "execution_count": 3,
     "metadata": {},
     "output_type": "execute_result"
    }
   ],
   "source": [
    "# import pandas and print version\n",
    "from __future__ import print_function\n",
    "\n",
    "import pandas as pd\n",
    "pd.__version__"
   ]
  },
  {
   "cell_type": "code",
   "execution_count": 4,
   "metadata": {},
   "outputs": [
    {
     "data": {
      "text/plain": [
       "0    Zaragoza\n",
       "1      Huesca\n",
       "2      Teruel\n",
       "dtype: object"
      ]
     },
     "execution_count": 4,
     "metadata": {},
     "output_type": "execute_result"
    }
   ],
   "source": [
    "# Create one series object. These are the contents of the column/series cells, not titles of columns.\n",
    "pd.Series(['Zaragoza', 'Huesca', 'Teruel'])"
   ]
  },
  {
   "cell_type": "code",
   "execution_count": 16,
   "metadata": {},
   "outputs": [
    {
     "data": {
      "text/html": [
       "<div>\n",
       "<style scoped>\n",
       "    .dataframe tbody tr th:only-of-type {\n",
       "        vertical-align: middle;\n",
       "    }\n",
       "\n",
       "    .dataframe tbody tr th {\n",
       "        vertical-align: top;\n",
       "    }\n",
       "\n",
       "    .dataframe thead th {\n",
       "        text-align: right;\n",
       "    }\n",
       "</style>\n",
       "<table border=\"1\" class=\"dataframe\">\n",
       "  <thead>\n",
       "    <tr style=\"text-align: right;\">\n",
       "      <th></th>\n",
       "      <th>Poblacion</th>\n",
       "      <th>Ingresos netos anuales</th>\n",
       "    </tr>\n",
       "  </thead>\n",
       "  <tbody>\n",
       "    <tr>\n",
       "      <th>count</th>\n",
       "      <td>4.000000e+00</td>\n",
       "      <td>4.000000</td>\n",
       "    </tr>\n",
       "    <tr>\n",
       "      <th>mean</th>\n",
       "      <td>6.195032e+05</td>\n",
       "      <td>19762.500000</td>\n",
       "    </tr>\n",
       "    <tr>\n",
       "      <th>std</th>\n",
       "      <td>3.976258e+05</td>\n",
       "      <td>4473.509994</td>\n",
       "    </tr>\n",
       "    <tr>\n",
       "      <th>min</th>\n",
       "      <td>1.245600e+05</td>\n",
       "      <td>14000.000000</td>\n",
       "    </tr>\n",
       "    <tr>\n",
       "      <th>25%</th>\n",
       "      <td>3.950392e+05</td>\n",
       "      <td>17337.500000</td>\n",
       "    </tr>\n",
       "    <tr>\n",
       "      <th>50%</th>\n",
       "      <td>6.688340e+05</td>\n",
       "      <td>20775.000000</td>\n",
       "    </tr>\n",
       "    <tr>\n",
       "      <th>75%</th>\n",
       "      <td>8.932980e+05</td>\n",
       "      <td>23200.000000</td>\n",
       "    </tr>\n",
       "    <tr>\n",
       "      <th>max</th>\n",
       "      <td>1.015785e+06</td>\n",
       "      <td>23500.000000</td>\n",
       "    </tr>\n",
       "  </tbody>\n",
       "</table>\n",
       "</div>"
      ],
      "text/plain": [
       "          Poblacion  Ingresos netos anuales\n",
       "count  4.000000e+00                4.000000\n",
       "mean   6.195032e+05            19762.500000\n",
       "std    3.976258e+05             4473.509994\n",
       "min    1.245600e+05            14000.000000\n",
       "25%    3.950392e+05            17337.500000\n",
       "50%    6.688340e+05            20775.000000\n",
       "75%    8.932980e+05            23200.000000\n",
       "max    1.015785e+06            23500.000000"
      ]
     },
     "execution_count": 16,
     "metadata": {},
     "output_type": "execute_result"
    }
   ],
   "source": [
    "# To create a table (DataFrame) you first create the different columns (series) assigning them a series name variable\n",
    "nombres_ciudades = pd.Series(['Villa Meona', 'Cabezonia', 'Los Aborregaos', 'San Pitipato de Fi'])\n",
    "poblacion = pd.Series([852469, 1015785, 485199,124560])\n",
    "ingresos_netos_medios_anuales = pd.Series([14000, 18450, 23100,23500])\n",
    "\n",
    "# Then you create the table with a dictionary assigning column label names to the series created in the previous step. First item is the column name, second item is the series name.\n",
    "miTabla = pd.DataFrame({ 'Nombre de la ciudad': nombres_ciudades, 'Poblacion': poblacion, 'Ingresos netos anuales': ingresos_netos_medios_anuales })\n",
    "# You can then use the describe method on the DF to see some statistics about it\n",
    "miTabla.describe()\n"
   ]
  },
  {
   "cell_type": "code",
   "execution_count": 9,
   "metadata": {},
   "outputs": [
    {
     "data": {
      "text/html": [
       "<div>\n",
       "<style scoped>\n",
       "    .dataframe tbody tr th:only-of-type {\n",
       "        vertical-align: middle;\n",
       "    }\n",
       "\n",
       "    .dataframe tbody tr th {\n",
       "        vertical-align: top;\n",
       "    }\n",
       "\n",
       "    .dataframe thead th {\n",
       "        text-align: right;\n",
       "    }\n",
       "</style>\n",
       "<table border=\"1\" class=\"dataframe\">\n",
       "  <thead>\n",
       "    <tr style=\"text-align: right;\">\n",
       "      <th></th>\n",
       "      <th>longitude</th>\n",
       "      <th>latitude</th>\n",
       "      <th>housing_median_age</th>\n",
       "      <th>total_rooms</th>\n",
       "      <th>total_bedrooms</th>\n",
       "      <th>population</th>\n",
       "      <th>households</th>\n",
       "      <th>median_income</th>\n",
       "      <th>median_house_value</th>\n",
       "    </tr>\n",
       "  </thead>\n",
       "  <tbody>\n",
       "    <tr>\n",
       "      <th>count</th>\n",
       "      <td>17000.000000</td>\n",
       "      <td>17000.000000</td>\n",
       "      <td>17000.000000</td>\n",
       "      <td>17000.000000</td>\n",
       "      <td>17000.000000</td>\n",
       "      <td>17000.000000</td>\n",
       "      <td>17000.000000</td>\n",
       "      <td>17000.000000</td>\n",
       "      <td>17000.000000</td>\n",
       "    </tr>\n",
       "    <tr>\n",
       "      <th>mean</th>\n",
       "      <td>-119.562108</td>\n",
       "      <td>35.625225</td>\n",
       "      <td>28.589353</td>\n",
       "      <td>2643.664412</td>\n",
       "      <td>539.410824</td>\n",
       "      <td>1429.573941</td>\n",
       "      <td>501.221941</td>\n",
       "      <td>3.883578</td>\n",
       "      <td>207300.912353</td>\n",
       "    </tr>\n",
       "    <tr>\n",
       "      <th>std</th>\n",
       "      <td>2.005166</td>\n",
       "      <td>2.137340</td>\n",
       "      <td>12.586937</td>\n",
       "      <td>2179.947071</td>\n",
       "      <td>421.499452</td>\n",
       "      <td>1147.852959</td>\n",
       "      <td>384.520841</td>\n",
       "      <td>1.908157</td>\n",
       "      <td>115983.764387</td>\n",
       "    </tr>\n",
       "    <tr>\n",
       "      <th>min</th>\n",
       "      <td>-124.350000</td>\n",
       "      <td>32.540000</td>\n",
       "      <td>1.000000</td>\n",
       "      <td>2.000000</td>\n",
       "      <td>1.000000</td>\n",
       "      <td>3.000000</td>\n",
       "      <td>1.000000</td>\n",
       "      <td>0.499900</td>\n",
       "      <td>14999.000000</td>\n",
       "    </tr>\n",
       "    <tr>\n",
       "      <th>25%</th>\n",
       "      <td>-121.790000</td>\n",
       "      <td>33.930000</td>\n",
       "      <td>18.000000</td>\n",
       "      <td>1462.000000</td>\n",
       "      <td>297.000000</td>\n",
       "      <td>790.000000</td>\n",
       "      <td>282.000000</td>\n",
       "      <td>2.566375</td>\n",
       "      <td>119400.000000</td>\n",
       "    </tr>\n",
       "    <tr>\n",
       "      <th>50%</th>\n",
       "      <td>-118.490000</td>\n",
       "      <td>34.250000</td>\n",
       "      <td>29.000000</td>\n",
       "      <td>2127.000000</td>\n",
       "      <td>434.000000</td>\n",
       "      <td>1167.000000</td>\n",
       "      <td>409.000000</td>\n",
       "      <td>3.544600</td>\n",
       "      <td>180400.000000</td>\n",
       "    </tr>\n",
       "    <tr>\n",
       "      <th>75%</th>\n",
       "      <td>-118.000000</td>\n",
       "      <td>37.720000</td>\n",
       "      <td>37.000000</td>\n",
       "      <td>3151.250000</td>\n",
       "      <td>648.250000</td>\n",
       "      <td>1721.000000</td>\n",
       "      <td>605.250000</td>\n",
       "      <td>4.767000</td>\n",
       "      <td>265000.000000</td>\n",
       "    </tr>\n",
       "    <tr>\n",
       "      <th>max</th>\n",
       "      <td>-114.310000</td>\n",
       "      <td>41.950000</td>\n",
       "      <td>52.000000</td>\n",
       "      <td>37937.000000</td>\n",
       "      <td>6445.000000</td>\n",
       "      <td>35682.000000</td>\n",
       "      <td>6082.000000</td>\n",
       "      <td>15.000100</td>\n",
       "      <td>500001.000000</td>\n",
       "    </tr>\n",
       "  </tbody>\n",
       "</table>\n",
       "</div>"
      ],
      "text/plain": [
       "          longitude      latitude  housing_median_age   total_rooms  \\\n",
       "count  17000.000000  17000.000000        17000.000000  17000.000000   \n",
       "mean    -119.562108     35.625225           28.589353   2643.664412   \n",
       "std        2.005166      2.137340           12.586937   2179.947071   \n",
       "min     -124.350000     32.540000            1.000000      2.000000   \n",
       "25%     -121.790000     33.930000           18.000000   1462.000000   \n",
       "50%     -118.490000     34.250000           29.000000   2127.000000   \n",
       "75%     -118.000000     37.720000           37.000000   3151.250000   \n",
       "max     -114.310000     41.950000           52.000000  37937.000000   \n",
       "\n",
       "       total_bedrooms    population    households  median_income  \\\n",
       "count    17000.000000  17000.000000  17000.000000   17000.000000   \n",
       "mean       539.410824   1429.573941    501.221941       3.883578   \n",
       "std        421.499452   1147.852959    384.520841       1.908157   \n",
       "min          1.000000      3.000000      1.000000       0.499900   \n",
       "25%        297.000000    790.000000    282.000000       2.566375   \n",
       "50%        434.000000   1167.000000    409.000000       3.544600   \n",
       "75%        648.250000   1721.000000    605.250000       4.767000   \n",
       "max       6445.000000  35682.000000   6082.000000      15.000100   \n",
       "\n",
       "       median_house_value  \n",
       "count        17000.000000  \n",
       "mean        207300.912353  \n",
       "std         115983.764387  \n",
       "min          14999.000000  \n",
       "25%         119400.000000  \n",
       "50%         180400.000000  \n",
       "75%         265000.000000  \n",
       "max         500001.000000  "
      ]
     },
     "execution_count": 9,
     "metadata": {},
     "output_type": "execute_result"
    }
   ],
   "source": [
    "# You can also load a pre-existing table into a DataFrame reading it into an object.\n",
    "california_housing_dataframe = pd.read_csv(\"https://download.mlcc.google.com/mledu-datasets/california_housing_train.csv\", sep=\",\")\n",
    "# Then you can use DataFrame.describe to show interesting statistics about a DataFrame: \n",
    "california_housing_dataframe.describe()"
   ]
  },
  {
   "cell_type": "code",
   "execution_count": 14,
   "metadata": {},
   "outputs": [
    {
     "data": {
      "text/html": [
       "<div>\n",
       "<style scoped>\n",
       "    .dataframe tbody tr th:only-of-type {\n",
       "        vertical-align: middle;\n",
       "    }\n",
       "\n",
       "    .dataframe tbody tr th {\n",
       "        vertical-align: top;\n",
       "    }\n",
       "\n",
       "    .dataframe thead th {\n",
       "        text-align: right;\n",
       "    }\n",
       "</style>\n",
       "<table border=\"1\" class=\"dataframe\">\n",
       "  <thead>\n",
       "    <tr style=\"text-align: right;\">\n",
       "      <th></th>\n",
       "      <th>longitude</th>\n",
       "      <th>latitude</th>\n",
       "      <th>housing_median_age</th>\n",
       "      <th>total_rooms</th>\n",
       "      <th>total_bedrooms</th>\n",
       "      <th>population</th>\n",
       "      <th>households</th>\n",
       "      <th>median_income</th>\n",
       "      <th>median_house_value</th>\n",
       "    </tr>\n",
       "  </thead>\n",
       "  <tbody>\n",
       "    <tr>\n",
       "      <th>0</th>\n",
       "      <td>-114.31</td>\n",
       "      <td>34.19</td>\n",
       "      <td>15.0</td>\n",
       "      <td>5612.0</td>\n",
       "      <td>1283.0</td>\n",
       "      <td>1015.0</td>\n",
       "      <td>472.0</td>\n",
       "      <td>1.4936</td>\n",
       "      <td>66900.0</td>\n",
       "    </tr>\n",
       "    <tr>\n",
       "      <th>1</th>\n",
       "      <td>-114.47</td>\n",
       "      <td>34.40</td>\n",
       "      <td>19.0</td>\n",
       "      <td>7650.0</td>\n",
       "      <td>1901.0</td>\n",
       "      <td>1129.0</td>\n",
       "      <td>463.0</td>\n",
       "      <td>1.8200</td>\n",
       "      <td>80100.0</td>\n",
       "    </tr>\n",
       "    <tr>\n",
       "      <th>2</th>\n",
       "      <td>-114.56</td>\n",
       "      <td>33.69</td>\n",
       "      <td>17.0</td>\n",
       "      <td>720.0</td>\n",
       "      <td>174.0</td>\n",
       "      <td>333.0</td>\n",
       "      <td>117.0</td>\n",
       "      <td>1.6509</td>\n",
       "      <td>85700.0</td>\n",
       "    </tr>\n",
       "    <tr>\n",
       "      <th>3</th>\n",
       "      <td>-114.57</td>\n",
       "      <td>33.64</td>\n",
       "      <td>14.0</td>\n",
       "      <td>1501.0</td>\n",
       "      <td>337.0</td>\n",
       "      <td>515.0</td>\n",
       "      <td>226.0</td>\n",
       "      <td>3.1917</td>\n",
       "      <td>73400.0</td>\n",
       "    </tr>\n",
       "    <tr>\n",
       "      <th>4</th>\n",
       "      <td>-114.57</td>\n",
       "      <td>33.57</td>\n",
       "      <td>20.0</td>\n",
       "      <td>1454.0</td>\n",
       "      <td>326.0</td>\n",
       "      <td>624.0</td>\n",
       "      <td>262.0</td>\n",
       "      <td>1.9250</td>\n",
       "      <td>65500.0</td>\n",
       "    </tr>\n",
       "  </tbody>\n",
       "</table>\n",
       "</div>"
      ],
      "text/plain": [
       "   longitude  latitude  housing_median_age  total_rooms  total_bedrooms  \\\n",
       "0    -114.31     34.19                15.0       5612.0          1283.0   \n",
       "1    -114.47     34.40                19.0       7650.0          1901.0   \n",
       "2    -114.56     33.69                17.0        720.0           174.0   \n",
       "3    -114.57     33.64                14.0       1501.0           337.0   \n",
       "4    -114.57     33.57                20.0       1454.0           326.0   \n",
       "\n",
       "   population  households  median_income  median_house_value  \n",
       "0      1015.0       472.0         1.4936             66900.0  \n",
       "1      1129.0       463.0         1.8200             80100.0  \n",
       "2       333.0       117.0         1.6509             85700.0  \n",
       "3       515.0       226.0         3.1917             73400.0  \n",
       "4       624.0       262.0         1.9250             65500.0  "
      ]
     },
     "execution_count": 14,
     "metadata": {},
     "output_type": "execute_result"
    }
   ],
   "source": [
    "# The head function shows the first few records of a DF\n",
    "california_housing_dataframe.head()"
   ]
  },
  {
   "cell_type": "code",
   "execution_count": 21,
   "metadata": {},
   "outputs": [
    {
     "data": {
      "text/plain": [
       "array([[<matplotlib.axes._subplots.AxesSubplot object at 0x0000021939456860>]],\n",
       "      dtype=object)"
      ]
     },
     "execution_count": 21,
     "metadata": {},
     "output_type": "execute_result"
    },
    {
     "data": {
      "image/png": "[encoded data removed]",
      "text/plain": [
       "<Figure size 432x288 with 1 Axes>"
      ]
     },
     "metadata": {},
     "output_type": "display_data"
    }
   ],
   "source": [
    "# Graphing: this shows a histogram of a distribution for a column (series) in a DF. YOu pass the column label name.\n",
    "miTabla.hist('Poblacion')"
   ]
  },
  {
   "cell_type": "code",
   "execution_count": 20,
   "metadata": {},
   "outputs": [
    {
     "data": {
      "text/plain": [
       "array([[<matplotlib.axes._subplots.AxesSubplot object at 0x00000219393DA5C0>]],\n",
       "      dtype=object)"
      ]
     },
     "execution_count": 20,
     "metadata": {},
     "output_type": "execute_result"
    },
    {
     "data": {
      "image/png": "[encoded data removed]",
      "text/plain": [
       "<Figure size 432x288 with 1 Axes>"
      ]
     },
     "metadata": {},
     "output_type": "display_data"
    }
   ],
   "source": [
    "miTabla.hist('Ingresos netos anuales')"
   ]
  },
  {
   "cell_type": "code",
   "execution_count": 23,
   "metadata": {},
   "outputs": [
    {
     "name": "stdout",
     "output_type": "stream",
     "text": [
      "<class 'pandas.core.series.Series'>\n"
     ]
    },
    {
     "data": {
      "text/plain": [
       "0           Villa Meona\n",
       "1             Cabezonia\n",
       "2        Los Aborregaos\n",
       "3    San Pitipato de Fi\n",
       "Name: Nombre de la ciudad, dtype: object"
      ]
     },
     "execution_count": 23,
     "metadata": {},
     "output_type": "execute_result"
    }
   ],
   "source": [
    "# Print the type of a particular series from a DF\n",
    "print(type(miTabla['Nombre de la ciudad']))\n",
    "# Print a series/column from a DF/tabla, by calling the series label name\n",
    "miTabla['Nombre de la ciudad']"
   ]
  },
  {
   "cell_type": "code",
   "execution_count": 27,
   "metadata": {},
   "outputs": [
    {
     "name": "stdout",
     "output_type": "stream",
     "text": [
      "<class 'str'>\n"
     ]
    },
    {
     "data": {
      "text/plain": [
       "'Cabezonia'"
      ]
     },
     "execution_count": 27,
     "metadata": {},
     "output_type": "execute_result"
    }
   ],
   "source": [
    "# Use index to access the first item in a column/series and print the type first (string) and then the cell content ('Cabezonia' in this case)\n",
    "print(type(miTabla['Nombre de la ciudad'][1]))\n",
    "miTabla['Nombre de la ciudad'][1]"
   ]
  },
  {
   "cell_type": "code",
   "execution_count": 28,
   "metadata": {},
   "outputs": [
    {
     "name": "stdout",
     "output_type": "stream",
     "text": [
      "<class 'pandas.core.frame.DataFrame'>\n"
     ]
    },
    {
     "data": {
      "text/html": [
       "<div>\n",
       "<style scoped>\n",
       "    .dataframe tbody tr th:only-of-type {\n",
       "        vertical-align: middle;\n",
       "    }\n",
       "\n",
       "    .dataframe tbody tr th {\n",
       "        vertical-align: top;\n",
       "    }\n",
       "\n",
       "    .dataframe thead th {\n",
       "        text-align: right;\n",
       "    }\n",
       "</style>\n",
       "<table border=\"1\" class=\"dataframe\">\n",
       "  <thead>\n",
       "    <tr style=\"text-align: right;\">\n",
       "      <th></th>\n",
       "      <th>Nombre de la ciudad</th>\n",
       "      <th>Poblacion</th>\n",
       "      <th>Ingresos netos anuales</th>\n",
       "    </tr>\n",
       "  </thead>\n",
       "  <tbody>\n",
       "    <tr>\n",
       "      <th>0</th>\n",
       "      <td>Villa Meona</td>\n",
       "      <td>852469</td>\n",
       "      <td>14000</td>\n",
       "    </tr>\n",
       "    <tr>\n",
       "      <th>1</th>\n",
       "      <td>Cabezonia</td>\n",
       "      <td>1015785</td>\n",
       "      <td>18450</td>\n",
       "    </tr>\n",
       "  </tbody>\n",
       "</table>\n",
       "</div>"
      ],
      "text/plain": [
       "  Nombre de la ciudad  Poblacion  Ingresos netos anuales\n",
       "0         Villa Meona     852469                   14000\n",
       "1           Cabezonia    1015785                   18450"
      ]
     },
     "execution_count": 28,
     "metadata": {},
     "output_type": "execute_result"
    }
   ],
   "source": [
    "# Accessing the first 2 rows of the table, via index. Shows type first and then cell contents\n",
    "print(type(miTabla[0:2]))\n",
    "miTabla[0:2]"
   ]
  },
  {
   "cell_type": "code",
   "execution_count": 29,
   "metadata": {},
   "outputs": [
    {
     "name": "stdout",
     "output_type": "stream",
     "text": [
      "0     8524.69\n",
      "1    10157.85\n",
      "2     4851.99\n",
      "3     1245.60\n",
      "dtype: float64\n"
     ]
    }
   ],
   "source": [
    "# You can use series names (variable not column label names!) to do basic Python calculations.\n",
    "\n",
    "calculo = poblacion/100\n",
    "print(calculo)\n"
   ]
  },
  {
   "cell_type": "code",
   "execution_count": 30,
   "metadata": {},
   "outputs": [
    {
     "data": {
      "text/plain": [
       "0    13.655892\n",
       "1    13.831172\n",
       "2    13.092314\n",
       "3    11.732543\n",
       "dtype: float64"
      ]
     },
     "execution_count": 30,
     "metadata": {},
     "output_type": "execute_result"
    }
   ],
   "source": [
    "#Use NUmpy for more advanced scientific computations\n",
    "\n",
    "import numpy as np\n",
    "\n",
    "np.log(poblacion)"
   ]
  },
  {
   "cell_type": "code",
   "execution_count": 32,
   "metadata": {},
   "outputs": [
    {
     "data": {
      "text/plain": [
       "0    False\n",
       "1     True\n",
       "2    False\n",
       "3    False\n",
       "dtype: bool"
      ]
     },
     "execution_count": 32,
     "metadata": {},
     "output_type": "execute_result"
    }
   ],
   "source": [
    "# For more complex single-column transformations, you can use Series.apply. Like the Python map function, Series.apply accepts as an argument a lambda function, which is applied to each value.\n",
    "\n",
    "# The example below creates a new Series that indicates whether the population is over 1M, true or false:\n",
    "\n",
    "poblacion.apply(lambda avalue: avalue > 1000000)\n"
   ]
  },
  {
   "cell_type": "code",
   "execution_count": 37,
   "metadata": {},
   "outputs": [
    {
     "data": {
      "text/html": [
       "<div>\n",
       "<style scoped>\n",
       "    .dataframe tbody tr th:only-of-type {\n",
       "        vertical-align: middle;\n",
       "    }\n",
       "\n",
       "    .dataframe tbody tr th {\n",
       "        vertical-align: top;\n",
       "    }\n",
       "\n",
       "    .dataframe thead th {\n",
       "        text-align: right;\n",
       "    }\n",
       "</style>\n",
       "<table border=\"1\" class=\"dataframe\">\n",
       "  <thead>\n",
       "    <tr style=\"text-align: right;\">\n",
       "      <th></th>\n",
       "      <th>Nombre de la ciudad</th>\n",
       "      <th>Poblacion</th>\n",
       "      <th>Ingresos netos anuales</th>\n",
       "      <th>NewColumnLabel1</th>\n",
       "      <th>NewColumnLabel2</th>\n",
       "    </tr>\n",
       "  </thead>\n",
       "  <tbody>\n",
       "    <tr>\n",
       "      <th>0</th>\n",
       "      <td>Villa Meona</td>\n",
       "      <td>852469</td>\n",
       "      <td>14000</td>\n",
       "      <td>46.87</td>\n",
       "      <td>60.890643</td>\n",
       "    </tr>\n",
       "    <tr>\n",
       "      <th>1</th>\n",
       "      <td>Cabezonia</td>\n",
       "      <td>1015785</td>\n",
       "      <td>18450</td>\n",
       "      <td>176.53</td>\n",
       "      <td>55.056098</td>\n",
       "    </tr>\n",
       "    <tr>\n",
       "      <th>2</th>\n",
       "      <td>Los Aborregaos</td>\n",
       "      <td>485199</td>\n",
       "      <td>23100</td>\n",
       "      <td>97.92</td>\n",
       "      <td>21.004286</td>\n",
       "    </tr>\n",
       "    <tr>\n",
       "      <th>3</th>\n",
       "      <td>San Pitipato de Fi</td>\n",
       "      <td>124560</td>\n",
       "      <td>23500</td>\n",
       "      <td>67.03</td>\n",
       "      <td>5.300426</td>\n",
       "    </tr>\n",
       "  </tbody>\n",
       "</table>\n",
       "</div>"
      ],
      "text/plain": [
       "  Nombre de la ciudad  Poblacion  Ingresos netos anuales  NewColumnLabel1  \\\n",
       "0         Villa Meona     852469                   14000            46.87   \n",
       "1           Cabezonia    1015785                   18450           176.53   \n",
       "2      Los Aborregaos     485199                   23100            97.92   \n",
       "3  San Pitipato de Fi     124560                   23500            67.03   \n",
       "\n",
       "   NewColumnLabel2  \n",
       "0        60.890643  \n",
       "1        55.056098  \n",
       "2        21.004286  \n",
       "3         5.300426  "
      ]
     },
     "execution_count": 37,
     "metadata": {},
     "output_type": "execute_result"
    }
   ],
   "source": [
    "# To add new columns to the DF. In the first example, you just add a new series with values. In the second you add a neew series by performing a calculation with values from other series in the table.\n",
    "miTabla['NewColumnLabel1'] = pd.Series([46.87, 176.53, 97.92, 67.03])\n",
    "miTabla['NewColumnLabel2'] = miTabla['Poblacion'] / miTabla['Ingresos netos anuales']\n",
    "miTabla.head()\n"
   ]
  },
  {
   "cell_type": "code",
   "execution_count": 39,
   "metadata": {},
   "outputs": [
    {
     "data": {
      "text/plain": [
       "0    False\n",
       "1    False\n",
       "2    False\n",
       "3     True\n",
       "Name: Nombre de la ciudad, dtype: bool"
      ]
     },
     "execution_count": 39,
     "metadata": {},
     "output_type": "execute_result"
    }
   ],
   "source": [
    "# Here we apply a lambda function to see if the city name includes \"San\"). You can call the apply method on the series variable name or on the table['column label name']. \n",
    "nombres_ciudades.apply(lambda avalue: 'San' in avalue)\n",
    "miTabla['Nombre de la ciudad'].apply(lambda avalue: 'San' in avalue)"
   ]
  },
  {
   "cell_type": "code",
   "execution_count": 53,
   "metadata": {},
   "outputs": [],
   "source": [
    "# We want to add a new column that returns True if the city has \"cab\" in its name AND has more than 1M inhabitants:\n",
    "\n",
    "miTabla[\"Nombre con cab y 1M personas\"] = miTabla['Nombre de la ciudad'].apply(lambda name: name.startswith('Cab')) & (miTabla['Poblacion'] > 1000000)"
   ]
  },
  {
   "cell_type": "code",
   "execution_count": 54,
   "metadata": {},
   "outputs": [
    {
     "data": {
      "text/html": [
       "<div>\n",
       "<style scoped>\n",
       "    .dataframe tbody tr th:only-of-type {\n",
       "        vertical-align: middle;\n",
       "    }\n",
       "\n",
       "    .dataframe tbody tr th {\n",
       "        vertical-align: top;\n",
       "    }\n",
       "\n",
       "    .dataframe thead th {\n",
       "        text-align: right;\n",
       "    }\n",
       "</style>\n",
       "<table border=\"1\" class=\"dataframe\">\n",
       "  <thead>\n",
       "    <tr style=\"text-align: right;\">\n",
       "      <th></th>\n",
       "      <th>Nombre de la ciudad</th>\n",
       "      <th>Poblacion</th>\n",
       "      <th>Ingresos netos anuales</th>\n",
       "      <th>NewColumnLabel1</th>\n",
       "      <th>NewColumnLabel2</th>\n",
       "      <th>Nombre con cab y 1M personas</th>\n",
       "      <th>Nombre con z y 1M personas</th>\n",
       "    </tr>\n",
       "  </thead>\n",
       "  <tbody>\n",
       "    <tr>\n",
       "      <th>0</th>\n",
       "      <td>Villa Meona</td>\n",
       "      <td>852469</td>\n",
       "      <td>14000</td>\n",
       "      <td>46.87</td>\n",
       "      <td>60.890643</td>\n",
       "      <td>False</td>\n",
       "      <td>False</td>\n",
       "    </tr>\n",
       "    <tr>\n",
       "      <th>1</th>\n",
       "      <td>Cabezonia</td>\n",
       "      <td>1015785</td>\n",
       "      <td>18450</td>\n",
       "      <td>176.53</td>\n",
       "      <td>55.056098</td>\n",
       "      <td>True</td>\n",
       "      <td>True</td>\n",
       "    </tr>\n",
       "    <tr>\n",
       "      <th>2</th>\n",
       "      <td>Los Aborregaos</td>\n",
       "      <td>485199</td>\n",
       "      <td>23100</td>\n",
       "      <td>97.92</td>\n",
       "      <td>21.004286</td>\n",
       "      <td>False</td>\n",
       "      <td>False</td>\n",
       "    </tr>\n",
       "    <tr>\n",
       "      <th>3</th>\n",
       "      <td>San Pitipato de Fi</td>\n",
       "      <td>124560</td>\n",
       "      <td>23500</td>\n",
       "      <td>67.03</td>\n",
       "      <td>5.300426</td>\n",
       "      <td>False</td>\n",
       "      <td>False</td>\n",
       "    </tr>\n",
       "  </tbody>\n",
       "</table>\n",
       "</div>"
      ],
      "text/plain": [
       "  Nombre de la ciudad  Poblacion  Ingresos netos anuales  NewColumnLabel1  \\\n",
       "0         Villa Meona     852469                   14000            46.87   \n",
       "1           Cabezonia    1015785                   18450           176.53   \n",
       "2      Los Aborregaos     485199                   23100            97.92   \n",
       "3  San Pitipato de Fi     124560                   23500            67.03   \n",
       "\n",
       "   NewColumnLabel2  Nombre con cab y 1M personas  Nombre con z y 1M personas  \n",
       "0        60.890643                         False                       False  \n",
       "1        55.056098                          True                        True  \n",
       "2        21.004286                         False                       False  \n",
       "3         5.300426                         False                       False  "
      ]
     },
     "execution_count": 54,
     "metadata": {},
     "output_type": "execute_result"
    }
   ],
   "source": [
    "miTabla.head()"
   ]
  },
  {
   "cell_type": "code",
   "execution_count": 55,
   "metadata": {},
   "outputs": [
    {
     "data": {
      "text/plain": [
       "RangeIndex(start=0, stop=4, step=1)"
      ]
     },
     "execution_count": 55,
     "metadata": {},
     "output_type": "execute_result"
    }
   ],
   "source": [
    "# Once created, the index values are stable; that is, they do not change when data is reordered.\n",
    "nombres_ciudades.index"
   ]
  },
  {
   "cell_type": "code",
   "execution_count": 90,
   "metadata": {},
   "outputs": [
    {
     "data": {
      "text/html": [
       "<div>\n",
       "<style scoped>\n",
       "    .dataframe tbody tr th:only-of-type {\n",
       "        vertical-align: middle;\n",
       "    }\n",
       "\n",
       "    .dataframe tbody tr th {\n",
       "        vertical-align: top;\n",
       "    }\n",
       "\n",
       "    .dataframe thead th {\n",
       "        text-align: right;\n",
       "    }\n",
       "</style>\n",
       "<table border=\"1\" class=\"dataframe\">\n",
       "  <thead>\n",
       "    <tr style=\"text-align: right;\">\n",
       "      <th></th>\n",
       "      <th>Nombre de la ciudad</th>\n",
       "      <th>Poblacion</th>\n",
       "      <th>Ingresos netos anuales</th>\n",
       "      <th>NewColumnLabel1</th>\n",
       "      <th>NewColumnLabel2</th>\n",
       "      <th>Nombre con cab y 1M personas</th>\n",
       "      <th>Nombre con z y 1M personas</th>\n",
       "    </tr>\n",
       "  </thead>\n",
       "  <tbody>\n",
       "    <tr>\n",
       "      <th>1</th>\n",
       "      <td>Cabezonia</td>\n",
       "      <td>1015785.0</td>\n",
       "      <td>18450.0</td>\n",
       "      <td>176.53</td>\n",
       "      <td>55.056098</td>\n",
       "      <td>True</td>\n",
       "      <td>True</td>\n",
       "    </tr>\n",
       "    <tr>\n",
       "      <th>0</th>\n",
       "      <td>Villa Meona</td>\n",
       "      <td>852469.0</td>\n",
       "      <td>14000.0</td>\n",
       "      <td>46.87</td>\n",
       "      <td>60.890643</td>\n",
       "      <td>False</td>\n",
       "      <td>False</td>\n",
       "    </tr>\n",
       "    <tr>\n",
       "      <th>3</th>\n",
       "      <td>San Pitipato de Fi</td>\n",
       "      <td>124560.0</td>\n",
       "      <td>23500.0</td>\n",
       "      <td>67.03</td>\n",
       "      <td>5.300426</td>\n",
       "      <td>False</td>\n",
       "      <td>False</td>\n",
       "    </tr>\n",
       "    <tr>\n",
       "      <th>2</th>\n",
       "      <td>Los Aborregaos</td>\n",
       "      <td>485199.0</td>\n",
       "      <td>23100.0</td>\n",
       "      <td>97.92</td>\n",
       "      <td>21.004286</td>\n",
       "      <td>False</td>\n",
       "      <td>False</td>\n",
       "    </tr>\n",
       "    <tr>\n",
       "      <th>28</th>\n",
       "      <td>NaN</td>\n",
       "      <td>NaN</td>\n",
       "      <td>NaN</td>\n",
       "      <td>NaN</td>\n",
       "      <td>NaN</td>\n",
       "      <td>NaN</td>\n",
       "      <td>NaN</td>\n",
       "    </tr>\n",
       "  </tbody>\n",
       "</table>\n",
       "</div>"
      ],
      "text/plain": [
       "   Nombre de la ciudad  Poblacion  Ingresos netos anuales  NewColumnLabel1  \\\n",
       "1            Cabezonia  1015785.0                 18450.0           176.53   \n",
       "0          Villa Meona   852469.0                 14000.0            46.87   \n",
       "3   San Pitipato de Fi   124560.0                 23500.0            67.03   \n",
       "2       Los Aborregaos   485199.0                 23100.0            97.92   \n",
       "28                 NaN        NaN                     NaN              NaN   \n",
       "\n",
       "    NewColumnLabel2 Nombre con cab y 1M personas Nombre con z y 1M personas  \n",
       "1         55.056098                         True                       True  \n",
       "0         60.890643                        False                      False  \n",
       "3          5.300426                        False                      False  \n",
       "2         21.004286                        False                      False  \n",
       "28              NaN                          NaN                        NaN  "
      ]
     },
     "execution_count": 90,
     "metadata": {},
     "output_type": "execute_result"
    }
   ],
   "source": [
    "# To reorder the rows, call reindex on the table/DF. If index values are called but don't exist, NA values are added to the row. As we have indexed it by nombres_ciudades earlier, this is the indexing field. A reindex witll resort by city name.\n",
    "miTabla.reindex([1, 0, 3, 2,28]) "
   ]
  },
  {
   "cell_type": "code",
   "execution_count": 92,
   "metadata": {},
   "outputs": [
    {
     "data": {
      "text/html": [
       "<div>\n",
       "<style scoped>\n",
       "    .dataframe tbody tr th:only-of-type {\n",
       "        vertical-align: middle;\n",
       "    }\n",
       "\n",
       "    .dataframe tbody tr th {\n",
       "        vertical-align: top;\n",
       "    }\n",
       "\n",
       "    .dataframe thead th {\n",
       "        text-align: right;\n",
       "    }\n",
       "</style>\n",
       "<table border=\"1\" class=\"dataframe\">\n",
       "  <thead>\n",
       "    <tr style=\"text-align: right;\">\n",
       "      <th></th>\n",
       "      <th>Nombre de la ciudad</th>\n",
       "      <th>Poblacion</th>\n",
       "      <th>Ingresos netos anuales</th>\n",
       "      <th>NewColumnLabel1</th>\n",
       "      <th>NewColumnLabel2</th>\n",
       "      <th>Nombre con cab y 1M personas</th>\n",
       "      <th>Nombre con z y 1M personas</th>\n",
       "    </tr>\n",
       "  </thead>\n",
       "  <tbody>\n",
       "    <tr>\n",
       "      <th>3</th>\n",
       "      <td>San Pitipato de Fi</td>\n",
       "      <td>124560</td>\n",
       "      <td>23500</td>\n",
       "      <td>67.03</td>\n",
       "      <td>5.300426</td>\n",
       "      <td>False</td>\n",
       "      <td>False</td>\n",
       "    </tr>\n",
       "    <tr>\n",
       "      <th>1</th>\n",
       "      <td>Cabezonia</td>\n",
       "      <td>1015785</td>\n",
       "      <td>18450</td>\n",
       "      <td>176.53</td>\n",
       "      <td>55.056098</td>\n",
       "      <td>True</td>\n",
       "      <td>True</td>\n",
       "    </tr>\n",
       "    <tr>\n",
       "      <th>0</th>\n",
       "      <td>Villa Meona</td>\n",
       "      <td>852469</td>\n",
       "      <td>14000</td>\n",
       "      <td>46.87</td>\n",
       "      <td>60.890643</td>\n",
       "      <td>False</td>\n",
       "      <td>False</td>\n",
       "    </tr>\n",
       "    <tr>\n",
       "      <th>2</th>\n",
       "      <td>Los Aborregaos</td>\n",
       "      <td>485199</td>\n",
       "      <td>23100</td>\n",
       "      <td>97.92</td>\n",
       "      <td>21.004286</td>\n",
       "      <td>False</td>\n",
       "      <td>False</td>\n",
       "    </tr>\n",
       "  </tbody>\n",
       "</table>\n",
       "</div>"
      ],
      "text/plain": [
       "  Nombre de la ciudad  Poblacion  Ingresos netos anuales  NewColumnLabel1  \\\n",
       "3  San Pitipato de Fi     124560                   23500            67.03   \n",
       "1           Cabezonia    1015785                   18450           176.53   \n",
       "0         Villa Meona     852469                   14000            46.87   \n",
       "2      Los Aborregaos     485199                   23100            97.92   \n",
       "\n",
       "   NewColumnLabel2  Nombre con cab y 1M personas  Nombre con z y 1M personas  \n",
       "3         5.300426                         False                       False  \n",
       "1        55.056098                          True                        True  \n",
       "0        60.890643                         False                       False  \n",
       "2        21.004286                         False                       False  "
      ]
     },
     "execution_count": 92,
     "metadata": {},
     "output_type": "execute_result"
    }
   ],
   "source": [
    "# To reshuffle rows in a table randomly, call the numby randomization function to reindex the table:\n",
    "miTabla.reindex(np.random.permutation(miTabla.index))"
   ]
  },
  {
   "cell_type": "code",
   "execution_count": 93,
   "metadata": {},
   "outputs": [
    {
     "data": {
      "text/html": [
       "<div>\n",
       "<style scoped>\n",
       "    .dataframe tbody tr th:only-of-type {\n",
       "        vertical-align: middle;\n",
       "    }\n",
       "\n",
       "    .dataframe tbody tr th {\n",
       "        vertical-align: top;\n",
       "    }\n",
       "\n",
       "    .dataframe thead th {\n",
       "        text-align: right;\n",
       "    }\n",
       "</style>\n",
       "<table border=\"1\" class=\"dataframe\">\n",
       "  <thead>\n",
       "    <tr style=\"text-align: right;\">\n",
       "      <th></th>\n",
       "      <th>Nombre de la ciudad</th>\n",
       "      <th>Poblacion</th>\n",
       "      <th>Ingresos netos anuales</th>\n",
       "      <th>NewColumnLabel1</th>\n",
       "      <th>NewColumnLabel2</th>\n",
       "      <th>Nombre con cab y 1M personas</th>\n",
       "      <th>Nombre con z y 1M personas</th>\n",
       "    </tr>\n",
       "  </thead>\n",
       "  <tbody>\n",
       "    <tr>\n",
       "      <th>0</th>\n",
       "      <td>Villa Meona</td>\n",
       "      <td>852469</td>\n",
       "      <td>14000</td>\n",
       "      <td>46.87</td>\n",
       "      <td>60.890643</td>\n",
       "      <td>False</td>\n",
       "      <td>False</td>\n",
       "    </tr>\n",
       "    <tr>\n",
       "      <th>1</th>\n",
       "      <td>Cabezonia</td>\n",
       "      <td>1015785</td>\n",
       "      <td>18450</td>\n",
       "      <td>176.53</td>\n",
       "      <td>55.056098</td>\n",
       "      <td>True</td>\n",
       "      <td>True</td>\n",
       "    </tr>\n",
       "    <tr>\n",
       "      <th>2</th>\n",
       "      <td>Los Aborregaos</td>\n",
       "      <td>485199</td>\n",
       "      <td>23100</td>\n",
       "      <td>97.92</td>\n",
       "      <td>21.004286</td>\n",
       "      <td>False</td>\n",
       "      <td>False</td>\n",
       "    </tr>\n",
       "    <tr>\n",
       "      <th>3</th>\n",
       "      <td>San Pitipato de Fi</td>\n",
       "      <td>124560</td>\n",
       "      <td>23500</td>\n",
       "      <td>67.03</td>\n",
       "      <td>5.300426</td>\n",
       "      <td>False</td>\n",
       "      <td>False</td>\n",
       "    </tr>\n",
       "  </tbody>\n",
       "</table>\n",
       "</div>"
      ],
      "text/plain": [
       "  Nombre de la ciudad  Poblacion  Ingresos netos anuales  NewColumnLabel1  \\\n",
       "0         Villa Meona     852469                   14000            46.87   \n",
       "1           Cabezonia    1015785                   18450           176.53   \n",
       "2      Los Aborregaos     485199                   23100            97.92   \n",
       "3  San Pitipato de Fi     124560                   23500            67.03   \n",
       "\n",
       "   NewColumnLabel2  Nombre con cab y 1M personas  Nombre con z y 1M personas  \n",
       "0        60.890643                         False                       False  \n",
       "1        55.056098                          True                        True  \n",
       "2        21.004286                         False                       False  \n",
       "3         5.300426                         False                       False  "
      ]
     },
     "execution_count": 93,
     "metadata": {},
     "output_type": "execute_result"
    }
   ],
   "source": [
    "miTabla.reindex([0,1,2,3])\n",
    "miTabla"
   ]
  },
  {
   "cell_type": "code",
   "execution_count": 95,
   "metadata": {},
   "outputs": [
    {
     "data": {
      "text/plain": [
       "RangeIndex(start=0, stop=4, step=1)"
      ]
     },
     "execution_count": 95,
     "metadata": {},
     "output_type": "execute_result"
    }
   ],
   "source": [
    "poblacion.index"
   ]
  },
  {
   "cell_type": "code",
   "execution_count": 96,
   "metadata": {},
   "outputs": [
    {
     "data": {
      "text/html": [
       "<div>\n",
       "<style scoped>\n",
       "    .dataframe tbody tr th:only-of-type {\n",
       "        vertical-align: middle;\n",
       "    }\n",
       "\n",
       "    .dataframe tbody tr th {\n",
       "        vertical-align: top;\n",
       "    }\n",
       "\n",
       "    .dataframe thead th {\n",
       "        text-align: right;\n",
       "    }\n",
       "</style>\n",
       "<table border=\"1\" class=\"dataframe\">\n",
       "  <thead>\n",
       "    <tr style=\"text-align: right;\">\n",
       "      <th></th>\n",
       "      <th>Nombre de la ciudad</th>\n",
       "      <th>Poblacion</th>\n",
       "      <th>Ingresos netos anuales</th>\n",
       "      <th>NewColumnLabel1</th>\n",
       "      <th>NewColumnLabel2</th>\n",
       "      <th>Nombre con cab y 1M personas</th>\n",
       "      <th>Nombre con z y 1M personas</th>\n",
       "    </tr>\n",
       "  </thead>\n",
       "  <tbody>\n",
       "    <tr>\n",
       "      <th>0</th>\n",
       "      <td>Villa Meona</td>\n",
       "      <td>852469</td>\n",
       "      <td>14000</td>\n",
       "      <td>46.87</td>\n",
       "      <td>60.890643</td>\n",
       "      <td>False</td>\n",
       "      <td>False</td>\n",
       "    </tr>\n",
       "    <tr>\n",
       "      <th>1</th>\n",
       "      <td>Cabezonia</td>\n",
       "      <td>1015785</td>\n",
       "      <td>18450</td>\n",
       "      <td>176.53</td>\n",
       "      <td>55.056098</td>\n",
       "      <td>True</td>\n",
       "      <td>True</td>\n",
       "    </tr>\n",
       "    <tr>\n",
       "      <th>2</th>\n",
       "      <td>Los Aborregaos</td>\n",
       "      <td>485199</td>\n",
       "      <td>23100</td>\n",
       "      <td>97.92</td>\n",
       "      <td>21.004286</td>\n",
       "      <td>False</td>\n",
       "      <td>False</td>\n",
       "    </tr>\n",
       "    <tr>\n",
       "      <th>3</th>\n",
       "      <td>San Pitipato de Fi</td>\n",
       "      <td>124560</td>\n",
       "      <td>23500</td>\n",
       "      <td>67.03</td>\n",
       "      <td>5.300426</td>\n",
       "      <td>False</td>\n",
       "      <td>False</td>\n",
       "    </tr>\n",
       "  </tbody>\n",
       "</table>\n",
       "</div>"
      ],
      "text/plain": [
       "  Nombre de la ciudad  Poblacion  Ingresos netos anuales  NewColumnLabel1  \\\n",
       "0         Villa Meona     852469                   14000            46.87   \n",
       "1           Cabezonia    1015785                   18450           176.53   \n",
       "2      Los Aborregaos     485199                   23100            97.92   \n",
       "3  San Pitipato de Fi     124560                   23500            67.03   \n",
       "\n",
       "   NewColumnLabel2  Nombre con cab y 1M personas  Nombre con z y 1M personas  \n",
       "0        60.890643                         False                       False  \n",
       "1        55.056098                          True                        True  \n",
       "2        21.004286                         False                       False  \n",
       "3         5.300426                         False                       False  "
      ]
     },
     "execution_count": 96,
     "metadata": {},
     "output_type": "execute_result"
    }
   ],
   "source": [
    "miTabla"
   ]
  },
  {
   "cell_type": "code",
   "execution_count": 97,
   "metadata": {},
   "outputs": [
    {
     "data": {
      "text/html": [
       "<div>\n",
       "<style scoped>\n",
       "    .dataframe tbody tr th:only-of-type {\n",
       "        vertical-align: middle;\n",
       "    }\n",
       "\n",
       "    .dataframe tbody tr th {\n",
       "        vertical-align: top;\n",
       "    }\n",
       "\n",
       "    .dataframe thead th {\n",
       "        text-align: right;\n",
       "    }\n",
       "</style>\n",
       "<table border=\"1\" class=\"dataframe\">\n",
       "  <thead>\n",
       "    <tr style=\"text-align: right;\">\n",
       "      <th></th>\n",
       "      <th>Nombre de la ciudad</th>\n",
       "      <th>Poblacion</th>\n",
       "      <th>Ingresos netos anuales</th>\n",
       "      <th>NewColumnLabel1</th>\n",
       "      <th>NewColumnLabel2</th>\n",
       "      <th>Nombre con cab y 1M personas</th>\n",
       "      <th>Nombre con z y 1M personas</th>\n",
       "    </tr>\n",
       "  </thead>\n",
       "  <tbody>\n",
       "    <tr>\n",
       "      <th>0</th>\n",
       "      <td>Villa Meona</td>\n",
       "      <td>852469</td>\n",
       "      <td>14000</td>\n",
       "      <td>46.87</td>\n",
       "      <td>60.890643</td>\n",
       "      <td>False</td>\n",
       "      <td>False</td>\n",
       "    </tr>\n",
       "    <tr>\n",
       "      <th>1</th>\n",
       "      <td>Cabezonia</td>\n",
       "      <td>1015785</td>\n",
       "      <td>18450</td>\n",
       "      <td>176.53</td>\n",
       "      <td>55.056098</td>\n",
       "      <td>True</td>\n",
       "      <td>True</td>\n",
       "    </tr>\n",
       "    <tr>\n",
       "      <th>2</th>\n",
       "      <td>Los Aborregaos</td>\n",
       "      <td>485199</td>\n",
       "      <td>23100</td>\n",
       "      <td>97.92</td>\n",
       "      <td>21.004286</td>\n",
       "      <td>False</td>\n",
       "      <td>False</td>\n",
       "    </tr>\n",
       "    <tr>\n",
       "      <th>3</th>\n",
       "      <td>San Pitipato de Fi</td>\n",
       "      <td>124560</td>\n",
       "      <td>23500</td>\n",
       "      <td>67.03</td>\n",
       "      <td>5.300426</td>\n",
       "      <td>False</td>\n",
       "      <td>False</td>\n",
       "    </tr>\n",
       "  </tbody>\n",
       "</table>\n",
       "</div>"
      ],
      "text/plain": [
       "  Nombre de la ciudad  Poblacion  Ingresos netos anuales  NewColumnLabel1  \\\n",
       "0         Villa Meona     852469                   14000            46.87   \n",
       "1           Cabezonia    1015785                   18450           176.53   \n",
       "2      Los Aborregaos     485199                   23100            97.92   \n",
       "3  San Pitipato de Fi     124560                   23500            67.03   \n",
       "\n",
       "   NewColumnLabel2  Nombre con cab y 1M personas  Nombre con z y 1M personas  \n",
       "0        60.890643                         False                       False  \n",
       "1        55.056098                          True                        True  \n",
       "2        21.004286                         False                       False  \n",
       "3         5.300426                         False                       False  "
      ]
     },
     "execution_count": 97,
     "metadata": {},
     "output_type": "execute_result"
    }
   ],
   "source": [
    "miTabla.reindex([0,1,2,3])"
   ]
  },
  {
   "cell_type": "code",
   "execution_count": 100,
   "metadata": {},
   "outputs": [],
   "source": [
    "poblacion.reindex=([3,2,1,0])"
   ]
  },
  {
   "cell_type": "code",
   "execution_count": 101,
   "metadata": {},
   "outputs": [
    {
     "data": {
      "text/html": [
       "<div>\n",
       "<style scoped>\n",
       "    .dataframe tbody tr th:only-of-type {\n",
       "        vertical-align: middle;\n",
       "    }\n",
       "\n",
       "    .dataframe tbody tr th {\n",
       "        vertical-align: top;\n",
       "    }\n",
       "\n",
       "    .dataframe thead th {\n",
       "        text-align: right;\n",
       "    }\n",
       "</style>\n",
       "<table border=\"1\" class=\"dataframe\">\n",
       "  <thead>\n",
       "    <tr style=\"text-align: right;\">\n",
       "      <th></th>\n",
       "      <th>Nombre de la ciudad</th>\n",
       "      <th>Poblacion</th>\n",
       "      <th>Ingresos netos anuales</th>\n",
       "      <th>NewColumnLabel1</th>\n",
       "      <th>NewColumnLabel2</th>\n",
       "      <th>Nombre con cab y 1M personas</th>\n",
       "      <th>Nombre con z y 1M personas</th>\n",
       "    </tr>\n",
       "  </thead>\n",
       "  <tbody>\n",
       "    <tr>\n",
       "      <th>0</th>\n",
       "      <td>Villa Meona</td>\n",
       "      <td>852469</td>\n",
       "      <td>14000</td>\n",
       "      <td>46.87</td>\n",
       "      <td>60.890643</td>\n",
       "      <td>False</td>\n",
       "      <td>False</td>\n",
       "    </tr>\n",
       "    <tr>\n",
       "      <th>1</th>\n",
       "      <td>Cabezonia</td>\n",
       "      <td>1015785</td>\n",
       "      <td>18450</td>\n",
       "      <td>176.53</td>\n",
       "      <td>55.056098</td>\n",
       "      <td>True</td>\n",
       "      <td>True</td>\n",
       "    </tr>\n",
       "    <tr>\n",
       "      <th>2</th>\n",
       "      <td>Los Aborregaos</td>\n",
       "      <td>485199</td>\n",
       "      <td>23100</td>\n",
       "      <td>97.92</td>\n",
       "      <td>21.004286</td>\n",
       "      <td>False</td>\n",
       "      <td>False</td>\n",
       "    </tr>\n",
       "    <tr>\n",
       "      <th>3</th>\n",
       "      <td>San Pitipato de Fi</td>\n",
       "      <td>124560</td>\n",
       "      <td>23500</td>\n",
       "      <td>67.03</td>\n",
       "      <td>5.300426</td>\n",
       "      <td>False</td>\n",
       "      <td>False</td>\n",
       "    </tr>\n",
       "  </tbody>\n",
       "</table>\n",
       "</div>"
      ],
      "text/plain": [
       "  Nombre de la ciudad  Poblacion  Ingresos netos anuales  NewColumnLabel1  \\\n",
       "0         Villa Meona     852469                   14000            46.87   \n",
       "1           Cabezonia    1015785                   18450           176.53   \n",
       "2      Los Aborregaos     485199                   23100            97.92   \n",
       "3  San Pitipato de Fi     124560                   23500            67.03   \n",
       "\n",
       "   NewColumnLabel2  Nombre con cab y 1M personas  Nombre con z y 1M personas  \n",
       "0        60.890643                         False                       False  \n",
       "1        55.056098                          True                        True  \n",
       "2        21.004286                         False                       False  \n",
       "3         5.300426                         False                       False  "
      ]
     },
     "execution_count": 101,
     "metadata": {},
     "output_type": "execute_result"
    }
   ],
   "source": [
    "miTabla"
   ]
  },
  {
   "cell_type": "code",
   "execution_count": 102,
   "metadata": {},
   "outputs": [
    {
     "data": {
      "text/plain": [
       "<bound method DataFrame.reindex of   Nombre de la ciudad  Poblacion  Ingresos netos anuales  NewColumnLabel1  \\\n",
       "0         Villa Meona     852469                   14000            46.87   \n",
       "1           Cabezonia    1015785                   18450           176.53   \n",
       "2      Los Aborregaos     485199                   23100            97.92   \n",
       "3  San Pitipato de Fi     124560                   23500            67.03   \n",
       "\n",
       "   NewColumnLabel2  Nombre con cab y 1M personas  Nombre con z y 1M personas  \n",
       "0        60.890643                         False                       False  \n",
       "1        55.056098                          True                        True  \n",
       "2        21.004286                         False                       False  \n",
       "3         5.300426                         False                       False  >"
      ]
     },
     "execution_count": 102,
     "metadata": {},
     "output_type": "execute_result"
    }
   ],
   "source": [
    "miTabla.reindex"
   ]
  },
  {
   "cell_type": "code",
   "execution_count": null,
   "metadata": {},
   "outputs": [],
   "source": []
  }
 ],
 "metadata": {
  "kernelspec": {
   "display_name": "Python 3",
   "language": "python",
   "name": "python3"
  },
  "language_info": {
   "codemirror_mode": {
    "name": "ipython",
    "version": 3
   },
   "file_extension": ".py",
   "mimetype": "text/x-python",
   "name": "python",
   "nbconvert_exporter": "python",
   "pygments_lexer": "ipython3",
   "version": "3.6.5"
  }
 },
 "nbformat": 4,
 "nbformat_minor": 2
}
