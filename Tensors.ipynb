{
 "cells": [
  {
   "cell_type": "code",
   "execution_count": 1,
   "metadata": {},
   "outputs": [
    {
     "name": "stdout",
     "output_type": "stream",
     "text": [
      "TF imported with eager execution!\n"
     ]
    }
   ],
   "source": [
    "from __future__ import print_function\n",
    "\n",
    "import tensorflow as tf\n",
    "try:\n",
    "  tf.contrib.eager.enable_eager_execution()\n",
    "  print(\"TF imported with eager execution!\")\n",
    "except ValueError:\n",
    "  print(\"TF already imported with eager execution!\")"
   ]
  },
  {
   "cell_type": "code",
   "execution_count": 12,
   "metadata": {},
   "outputs": [
    {
     "name": "stdout",
     "output_type": "stream",
     "text": [
      "Números primos: tf.Tensor([ 2  3  5  7 11 13], shape=(6,), dtype=int32) \n",
      "\n",
      "Primos+1: tf.Tensor([ 3  4  6  8 12 14], shape=(6,), dtype=int32) \n",
      "\n",
      "Doble de primos: tf.Tensor([ 4  6 10 14 22 26], shape=(6,), dtype=int32) \n",
      "\n",
      "El vector de Doble de primos pero con numpy: [ 4  6 10 14 22 26] \n",
      "\n"
     ]
    }
   ],
   "source": [
    "# Suma de vectores\n",
    "# Creamos varios vectores (tensores de 1-D) todos con 6 elementos exactamente, para poder sumarlos)\n",
    "# Especificamos que se trata de números enteros.\n",
    "# La salida incluye el tamaño/dimensiones (shape) y el tipo de valor guardado en el vector (si son enteros, etc)\n",
    "\n",
    "primos = tf.constant([2,3,5,7,11,13], dtype=tf.int32)\n",
    "print(\"Números primos:\", primos, \"\\n\")\n",
    "\n",
    "# Esto crea un vector cuyos elementos (6 en total) son todo unos (6):\n",
    "unos = tf.ones([6], dtype=tf.int32)\n",
    "\n",
    "# Sumamos los primos con el vector de unos para obtener un vector de primo+1:\n",
    "unomasdelprimo = tf.add(primos, unos)\n",
    "print(\"Primos+1:\", unomasdelprimo, \"\\n\")\n",
    "\n",
    "#Creamos un vector de doses, esta vez con una constante:\n",
    "doses = tf.constant([2,2,2,2,2,2], dtype=tf.int32)\n",
    "primosDoble = primos * doses\n",
    "print(\"Doble de primos:\", primosDoble, \"\\n\")\n",
    "\n",
    "# Llamando al método numpy en una matriz se obtiene solo el valor del tensor como array de numpy, sin más información. Si no, se ve información de dimensiones, tipo de los elementos, etc.\n",
    "print(\"El vector de Doble de primos pero con numpy:\", primosDoble.numpy(), \"\\n\")\n"
   ]
  },
  {
   "cell_type": "code",
   "execution_count": null,
   "metadata": {},
   "outputs": [],
   "source": []
  }
 ],
 "metadata": {
  "kernelspec": {
   "display_name": "Python 3",
   "language": "python",
   "name": "python3"
  },
  "language_info": {
   "codemirror_mode": {
    "name": "ipython",
    "version": 3
   },
   "file_extension": ".py",
   "mimetype": "text/x-python",
   "name": "python",
   "nbconvert_exporter": "python",
   "pygments_lexer": "ipython3",
   "version": "3.6.7"
  }
 },
 "nbformat": 4,
 "nbformat_minor": 2
}
